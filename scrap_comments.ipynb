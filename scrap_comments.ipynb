{
 "cells": [
  {
   "cell_type": "code",
   "execution_count": 1,
   "id": "e1993c25-9b3f-4f86-9db2-9d100933d856",
   "metadata": {},
   "outputs": [],
   "source": [
    "import undetected_chromedriver\n",
    "from bs4 import BeautifulSoup\n",
    "from selenium.webdriver.chrome.options import Options\n",
    "from selenium.webdriver.support import expected_conditions as ExpectedConditions\n",
    "import pandas as pd\n",
    "import time\n",
    "from fake_useragent import UserAgent\n",
    "from selenium.common import NoSuchElementException\n",
    "from selenium.webdriver.common.by import By\n",
    "from selenium.webdriver.support.wait import WebDriverWait"
   ]
  },
  {
   "cell_type": "code",
   "execution_count": 2,
   "id": "45b3eb68-743a-4459-afd9-13a625555333",
   "metadata": {},
   "outputs": [],
   "source": [
    "def get_url(id_product,star):\n",
    "    template = 'https://www.amazon.com/product-reviews/{}/ref=cm_cr_arp_d_viewopt_sr?ie=UTF8&filterByStar={}_star&reviewerType=all_reviews&sortBy=recent&pageNumber=1'\n",
    "    url = template.format(id_product,star)\n",
    "    return url\n"
   ]
  },
  {
   "cell_type": "code",
   "execution_count": 3,
   "id": "08b6dc83-eafc-44b7-92b9-1b30d7849ca5",
   "metadata": {},
   "outputs": [],
   "source": [
    "def read_csv_file(file_path):\n",
    "    df = pd.read_csv(file_path)\n",
    "    id_products = df['id_product'].tolist()\n",
    "    \n",
    "    return id_products"
   ]
  },
  {
   "cell_type": "code",
   "execution_count": 24,
   "id": "4dd23c47-228e-4c4c-99f6-ac76c3952251",
   "metadata": {},
   "outputs": [],
   "source": [
    "data_list = read_csv_file('drink_glasses_product_id.csv')"
   ]
  },
  {
   "cell_type": "code",
   "execution_count": 5,
   "id": "09ce50da-1fea-4ad2-be4b-8ba74788a69f",
   "metadata": {},
   "outputs": [],
   "source": [
    "def scrape_records(item):\n",
    "    overview_guest = item.find('a',attrs = {'data-hook':'review-title'})\n",
    "    overview_rating = overview_guest.find('span',attrs = {'class':'a-icon-alt'})\n",
    "    if overview_rating:\n",
    "        overview_rating = overview_rating.text\n",
    "    overview_text = overview_guest.find_all('span')[-1]\n",
    "    if overview_text:\n",
    "        overview_text = overview_text.text\n",
    "    comment = item.find('span',attrs= {'data-hook':'review-body'})\n",
    "    if comment:\n",
    "        comment = comment.span.text\n",
    "    name_guest = item.find('span',attrs = {'class':'a-profile-name'})\n",
    "    if name_guest:\n",
    "        name_guest = name_guest.text\n",
    "    date_review = item.find('span',attrs = {'data-hook':'review-date'})\n",
    "    if date_review:\n",
    "        date_review = date_review.text\n",
    "    result = (name_guest,date_review,overview_rating,overview_text, comment)\n",
    "    return result\n"
   ]
  },
  {
   "cell_type": "code",
   "execution_count": 20,
   "id": "dd3657cf-5e9a-4d62-ba90-861223a8fe02",
   "metadata": {},
   "outputs": [],
   "source": [
    "\n",
    "def scrape_amazon(search_term,star,driver):\n",
    "    url = get_url(search_term,star)\n",
    "    driver.get(url)\n",
    "    time.sleep(2)\n",
    "    records = []\n",
    "    while True:\n",
    "        # Scroll to the bottom of the page to load more items\n",
    "        # Add a short delay to let the page load\n",
    "        time.sleep(10)\n",
    "        driver.execute_script(\"window.scrollTo(0, document.body.scrollHeight);\")\n",
    "\n",
    "        soup = BeautifulSoup(driver.page_source, 'html.parser')\n",
    "        results = soup.find_all('div', {'data-hook': 'review'})\n",
    "\n",
    "        for item in results:\n",
    "            try:\n",
    "                record = scrape_records(item)\n",
    "                records.append(record)\n",
    "            except Exception as e:\n",
    "                print(f\"Error scraping item: {e}\")\n",
    "\n",
    "        # Check if there is a \"Next\" button on the page\n",
    "        try:\n",
    "            nextButton = driver.find_element(By.XPATH, '//a[text()=\"Next page\"]')\n",
    "            driver.execute_script(\"arguments[0].scrollIntoView();\", nextButton)\n",
    "            WebDriverWait(driver, 300).until(ExpectedConditions.element_to_be_clickable(nextButton))\n",
    "            nextButton.click()\n",
    "        except NoSuchElementException:\n",
    "            print(\"Breaking as Last page Reached\")\n",
    "            break\n",
    "\n",
    "\n",
    "    df = pd.DataFrame(records, columns=['name_guest','date_review','overview_rating','overview_text', 'comment'])\n",
    "    return df\n"
   ]
  },
  {
   "cell_type": "code",
   "execution_count": null,
   "id": "2801c00f-3bcc-473e-b124-ab004b00568c",
   "metadata": {},
   "outputs": [],
   "source": [
    "df_h = pd.DataFrame(columns=['name_guest', 'date_review', 'overview_rating', 'overview_text', 'comment'])\n",
    "df_h.to_csv('data.csv', index=False)\n",
    "star = 'one'\n",
    "# ua = UserAgent()\n",
    "# options = Options()\n",
    "# options.add_argument(f\"user-agent={ua.random}\")\n",
    "driver = undetected_chromedriver.Chrome()\n",
    "for id_product in data_list:\n",
    "    df = scrape_amazon(id_product,star,driver)\n",
    "    print(\"success! {}\".format(id_product))\n",
    "    df.to_csv('data_comment.csv',mode = 'a',header= False,index = False)\n",
    "driver.close()"
   ]
  },
  {
   "cell_type": "code",
   "execution_count": null,
   "id": "c9a3ed7c-6a13-488e-aba1-597eb1957521",
   "metadata": {},
   "outputs": [],
   "source": []
  }
 ],
 "metadata": {
  "kernelspec": {
   "display_name": "Python 3 (ipykernel)",
   "language": "python",
   "name": "python3"
  },
  "language_info": {
   "codemirror_mode": {
    "name": "ipython",
    "version": 3
   },
   "file_extension": ".py",
   "mimetype": "text/x-python",
   "name": "python",
   "nbconvert_exporter": "python",
   "pygments_lexer": "ipython3",
   "version": "3.10.12"
  }
 },
 "nbformat": 4,
 "nbformat_minor": 5
}
