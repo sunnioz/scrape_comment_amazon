{
 "cells": [
  {
   "cell_type": "code",
   "execution_count": 1,
   "id": "e1993c25-9b3f-4f86-9db2-9d100933d856",
   "metadata": {},
   "outputs": [],
   "source": [
    "import undetected_chromedriver\n",
    "from bs4 import BeautifulSoup\n",
    "from selenium.webdriver.chrome.options import Options\n",
    "from selenium.webdriver.support import expected_conditions as ExpectedConditions\n",
    "import pandas as pd\n",
    "import time\n",
    "from fake_useragent import UserAgent\n",
    "from selenium.common import NoSuchElementException\n",
    "from selenium.webdriver.common.by import By\n",
    "from selenium.webdriver.support.wait import WebDriverWait"
   ]
  },
  {
   "cell_type": "code",
   "execution_count": 2,
   "id": "45b3eb68-743a-4459-afd9-13a625555333",
   "metadata": {},
   "outputs": [],
   "source": [
    "def get_url(id_product,star):\n",
    "    template = 'https://www.amazon.com/product-reviews/{}/ref=cm_cr_arp_d_viewopt_sr?ie=UTF8&filterByStar={}_star&reviewerType=all_reviews&sortBy=recent&pageNumber=1'\n",
    "    url = template.format(id_product,star)\n",
    "    return url\n"
   ]
  },
  {
   "cell_type": "code",
   "execution_count": 3,
   "id": "08b6dc83-eafc-44b7-92b9-1b30d7849ca5",
   "metadata": {},
   "outputs": [],
   "source": [
    "def read_csv_file(file_path):\n",
    "    df = pd.read_csv(file_path)\n",
    "    id_products = df['id_product'].tolist()\n",
    "    \n",
    "    return id_products"
   ]
  },
  {
   "cell_type": "code",
   "execution_count": 24,
   "id": "4dd23c47-228e-4c4c-99f6-ac76c3952251",
   "metadata": {},
   "outputs": [],
   "source": [
    "data_list = read_csv_file('drink_glasses_product_id.csv')"
   ]
  },
  {
   "cell_type": "code",
   "execution_count": 5,
   "id": "09ce50da-1fea-4ad2-be4b-8ba74788a69f",
   "metadata": {},
   "outputs": [],
   "source": [
    "def scrape_records(item):\n",
    "    overview_guest = item.find('a',attrs = {'data-hook':'review-title'})\n",
    "    overview_rating = overview_guest.find('span',attrs = {'class':'a-icon-alt'})\n",
    "    if overview_rating:\n",
    "        overview_rating = overview_rating.text\n",
    "    overview_text = overview_guest.find_all('span')[-1]\n",
    "    if overview_text:\n",
    "        overview_text = overview_text.text\n",
    "    comment = item.find('span',attrs= {'data-hook':'review-body'})\n",
    "    if comment:\n",
    "        comment = comment.span.text\n",
    "    name_guest = item.find('span',attrs = {'class':'a-profile-name'})\n",
    "    if name_guest:\n",
    "        name_guest = name_guest.text\n",
    "    date_review = item.find('span',attrs = {'data-hook':'review-date'})\n",
    "    if date_review:\n",
    "        date_review = date_review.text\n",
    "    result = (name_guest,date_review,overview_rating,overview_text, comment)\n",
    "    return result\n"
   ]
  },
  {
   "cell_type": "code",
   "execution_count": 20,
   "id": "dd3657cf-5e9a-4d62-ba90-861223a8fe02",
   "metadata": {},
   "outputs": [],
   "source": [
    "\n",
    "def scrape_amazon(search_term,star,driver):\n",
    "    url = get_url(search_term,star)\n",
    "    driver.get(url)\n",
    "    time.sleep(2)\n",
    "    records = []\n",
    "    while True:\n",
    "        # Scroll to the bottom of the page to load more items\n",
    "        # Add a short delay to let the page load\n",
    "        time.sleep(10)\n",
    "        driver.execute_script(\"window.scrollTo(0, document.body.scrollHeight);\")\n",
    "\n",
    "        soup = BeautifulSoup(driver.page_source, 'html.parser')\n",
    "        results = soup.find_all('div', {'data-hook': 'review'})\n",
    "\n",
    "        for item in results:\n",
    "            try:\n",
    "                record = scrape_records(item)\n",
    "                records.append(record)\n",
    "            except Exception as e:\n",
    "                print(f\"Error scraping item: {e}\")\n",
    "\n",
    "        # Check if there is a \"Next\" button on the page\n",
    "        try:\n",
    "            nextButton = driver.find_element(By.XPATH, '//a[text()=\"Next page\"]')\n",
    "            driver.execute_script(\"arguments[0].scrollIntoView();\", nextButton)\n",
    "            WebDriverWait(driver, 300).until(ExpectedConditions.element_to_be_clickable(nextButton))\n",
    "            nextButton.click()\n",
    "        except NoSuchElementException:\n",
    "            print(\"Breaking as Last page Reached\")\n",
    "            break\n",
    "\n",
    "\n",
    "    df = pd.DataFrame(records, columns=['name_guest','date_review','overview_rating','overview_text', 'comment'])\n",
    "    return df\n"
   ]
  },
  {
   "cell_type": "code",
   "execution_count": 25,
   "id": "2801c00f-3bcc-473e-b124-ab004b00568c",
   "metadata": {},
   "outputs": [
    {
     "name": "stdout",
     "output_type": "stream",
     "text": [
      "Breaking as Last page Reached\n",
      "success! B0051U9D5M\n",
      "Error scraping item: 'NoneType' object has no attribute 'find'\n",
      "Error scraping item: 'NoneType' object has no attribute 'find'\n",
      "Breaking as Last page Reached\n",
      "success! B002ACOQ1K\n",
      "Breaking as Last page Reached\n",
      "success! B0753K2JB2\n",
      "Breaking as Last page Reached\n",
      "success! B0B1W2X8MR\n",
      "Error scraping item: 'NoneType' object has no attribute 'find'\n",
      "Error scraping item: 'NoneType' object has no attribute 'find'\n",
      "Error scraping item: 'NoneType' object has no attribute 'find'\n",
      "Breaking as Last page Reached\n",
      "success! B00GYFYCK4\n",
      "Breaking as Last page Reached\n",
      "success! B07H427LYX\n"
     ]
    },
    {
     "ename": "NoSuchWindowException",
     "evalue": "Message: no such window: target window already closed\nfrom unknown error: web view not found\n  (Session info: chrome=122.0.6261.94)\nStacktrace:\n#0 0x5ccc5403aec3 <unknown>\n#1 0x5ccc53d32ce6 <unknown>\n#2 0x5ccc53d098cd <unknown>\n#3 0x5ccc53da876d <unknown>\n#4 0x5ccc53dbe226 <unknown>\n#5 0x5ccc53d9fc53 <unknown>\n#6 0x5ccc53d70db3 <unknown>\n#7 0x5ccc53d7177e <unknown>\n#8 0x5ccc540007fb <unknown>\n#9 0x5ccc54004815 <unknown>\n#10 0x5ccc53fee111 <unknown>\n#11 0x5ccc540053a2 <unknown>\n#12 0x5ccc53fd21ef <unknown>\n#13 0x5ccc540294b8 <unknown>\n#14 0x5ccc540296b3 <unknown>\n#15 0x5ccc5403a074 <unknown>\n#16 0x72d5d1e94ac3 <unknown>\n",
     "output_type": "error",
     "traceback": [
      "\u001b[0;31m---------------------------------------------------------------------------\u001b[0m",
      "\u001b[0;31mNoSuchWindowException\u001b[0m                     Traceback (most recent call last)",
      "Cell \u001b[0;32mIn[25], line 9\u001b[0m\n\u001b[1;32m      7\u001b[0m driver \u001b[38;5;241m=\u001b[39m undetected_chromedriver\u001b[38;5;241m.\u001b[39mChrome()\n\u001b[1;32m      8\u001b[0m \u001b[38;5;28;01mfor\u001b[39;00m id_product \u001b[38;5;129;01min\u001b[39;00m data_list:\n\u001b[0;32m----> 9\u001b[0m     df \u001b[38;5;241m=\u001b[39m \u001b[43mscrape_amazon\u001b[49m\u001b[43m(\u001b[49m\u001b[43mid_product\u001b[49m\u001b[43m,\u001b[49m\u001b[43mstar\u001b[49m\u001b[43m,\u001b[49m\u001b[43mdriver\u001b[49m\u001b[43m)\u001b[49m\n\u001b[1;32m     10\u001b[0m     \u001b[38;5;28mprint\u001b[39m(\u001b[38;5;124m\"\u001b[39m\u001b[38;5;124msuccess! \u001b[39m\u001b[38;5;132;01m{}\u001b[39;00m\u001b[38;5;124m\"\u001b[39m\u001b[38;5;241m.\u001b[39mformat(id_product))\n\u001b[1;32m     11\u001b[0m     df\u001b[38;5;241m.\u001b[39mto_csv(\u001b[38;5;124m'\u001b[39m\u001b[38;5;124mdata_comment.csv\u001b[39m\u001b[38;5;124m'\u001b[39m,mode \u001b[38;5;241m=\u001b[39m \u001b[38;5;124m'\u001b[39m\u001b[38;5;124ma\u001b[39m\u001b[38;5;124m'\u001b[39m,header\u001b[38;5;241m=\u001b[39m \u001b[38;5;28;01mFalse\u001b[39;00m,index \u001b[38;5;241m=\u001b[39m \u001b[38;5;28;01mFalse\u001b[39;00m)\n",
      "Cell \u001b[0;32mIn[20], line 10\u001b[0m, in \u001b[0;36mscrape_amazon\u001b[0;34m(search_term, star, driver)\u001b[0m\n\u001b[1;32m      6\u001b[0m \u001b[38;5;28;01mwhile\u001b[39;00m \u001b[38;5;28;01mTrue\u001b[39;00m:\n\u001b[1;32m      7\u001b[0m     \u001b[38;5;66;03m# Scroll to the bottom of the page to load more items\u001b[39;00m\n\u001b[1;32m      8\u001b[0m     \u001b[38;5;66;03m# Add a short delay to let the page load\u001b[39;00m\n\u001b[1;32m      9\u001b[0m     time\u001b[38;5;241m.\u001b[39msleep(\u001b[38;5;241m10\u001b[39m)\n\u001b[0;32m---> 10\u001b[0m     \u001b[43mdriver\u001b[49m\u001b[38;5;241;43m.\u001b[39;49m\u001b[43mexecute_script\u001b[49m\u001b[43m(\u001b[49m\u001b[38;5;124;43m\"\u001b[39;49m\u001b[38;5;124;43mwindow.scrollTo(0, document.body.scrollHeight);\u001b[39;49m\u001b[38;5;124;43m\"\u001b[39;49m\u001b[43m)\u001b[49m\n\u001b[1;32m     12\u001b[0m     soup \u001b[38;5;241m=\u001b[39m BeautifulSoup(driver\u001b[38;5;241m.\u001b[39mpage_source, \u001b[38;5;124m'\u001b[39m\u001b[38;5;124mhtml.parser\u001b[39m\u001b[38;5;124m'\u001b[39m)\n\u001b[1;32m     13\u001b[0m     results \u001b[38;5;241m=\u001b[39m soup\u001b[38;5;241m.\u001b[39mfind_all(\u001b[38;5;124m'\u001b[39m\u001b[38;5;124mdiv\u001b[39m\u001b[38;5;124m'\u001b[39m, {\u001b[38;5;124m'\u001b[39m\u001b[38;5;124mdata-hook\u001b[39m\u001b[38;5;124m'\u001b[39m: \u001b[38;5;124m'\u001b[39m\u001b[38;5;124mreview\u001b[39m\u001b[38;5;124m'\u001b[39m})\n",
      "File \u001b[0;32m~/BTL_BIGDATA/env/lib/python3.10/site-packages/selenium/webdriver/remote/webdriver.py:407\u001b[0m, in \u001b[0;36mWebDriver.execute_script\u001b[0;34m(self, script, *args)\u001b[0m\n\u001b[1;32m    404\u001b[0m converted_args \u001b[38;5;241m=\u001b[39m \u001b[38;5;28mlist\u001b[39m(args)\n\u001b[1;32m    405\u001b[0m command \u001b[38;5;241m=\u001b[39m Command\u001b[38;5;241m.\u001b[39mW3C_EXECUTE_SCRIPT\n\u001b[0;32m--> 407\u001b[0m \u001b[38;5;28;01mreturn\u001b[39;00m \u001b[38;5;28;43mself\u001b[39;49m\u001b[38;5;241;43m.\u001b[39;49m\u001b[43mexecute\u001b[49m\u001b[43m(\u001b[49m\u001b[43mcommand\u001b[49m\u001b[43m,\u001b[49m\u001b[43m \u001b[49m\u001b[43m{\u001b[49m\u001b[38;5;124;43m\"\u001b[39;49m\u001b[38;5;124;43mscript\u001b[39;49m\u001b[38;5;124;43m\"\u001b[39;49m\u001b[43m:\u001b[49m\u001b[43m \u001b[49m\u001b[43mscript\u001b[49m\u001b[43m,\u001b[49m\u001b[43m \u001b[49m\u001b[38;5;124;43m\"\u001b[39;49m\u001b[38;5;124;43margs\u001b[39;49m\u001b[38;5;124;43m\"\u001b[39;49m\u001b[43m:\u001b[49m\u001b[43m \u001b[49m\u001b[43mconverted_args\u001b[49m\u001b[43m}\u001b[49m\u001b[43m)\u001b[49m[\u001b[38;5;124m\"\u001b[39m\u001b[38;5;124mvalue\u001b[39m\u001b[38;5;124m\"\u001b[39m]\n",
      "File \u001b[0;32m~/BTL_BIGDATA/env/lib/python3.10/site-packages/selenium/webdriver/remote/webdriver.py:347\u001b[0m, in \u001b[0;36mWebDriver.execute\u001b[0;34m(self, driver_command, params)\u001b[0m\n\u001b[1;32m    345\u001b[0m response \u001b[38;5;241m=\u001b[39m \u001b[38;5;28mself\u001b[39m\u001b[38;5;241m.\u001b[39mcommand_executor\u001b[38;5;241m.\u001b[39mexecute(driver_command, params)\n\u001b[1;32m    346\u001b[0m \u001b[38;5;28;01mif\u001b[39;00m response:\n\u001b[0;32m--> 347\u001b[0m     \u001b[38;5;28;43mself\u001b[39;49m\u001b[38;5;241;43m.\u001b[39;49m\u001b[43merror_handler\u001b[49m\u001b[38;5;241;43m.\u001b[39;49m\u001b[43mcheck_response\u001b[49m\u001b[43m(\u001b[49m\u001b[43mresponse\u001b[49m\u001b[43m)\u001b[49m\n\u001b[1;32m    348\u001b[0m     response[\u001b[38;5;124m\"\u001b[39m\u001b[38;5;124mvalue\u001b[39m\u001b[38;5;124m\"\u001b[39m] \u001b[38;5;241m=\u001b[39m \u001b[38;5;28mself\u001b[39m\u001b[38;5;241m.\u001b[39m_unwrap_value(response\u001b[38;5;241m.\u001b[39mget(\u001b[38;5;124m\"\u001b[39m\u001b[38;5;124mvalue\u001b[39m\u001b[38;5;124m\"\u001b[39m, \u001b[38;5;28;01mNone\u001b[39;00m))\n\u001b[1;32m    349\u001b[0m     \u001b[38;5;28;01mreturn\u001b[39;00m response\n",
      "File \u001b[0;32m~/BTL_BIGDATA/env/lib/python3.10/site-packages/selenium/webdriver/remote/errorhandler.py:229\u001b[0m, in \u001b[0;36mErrorHandler.check_response\u001b[0;34m(self, response)\u001b[0m\n\u001b[1;32m    227\u001b[0m         alert_text \u001b[38;5;241m=\u001b[39m value[\u001b[38;5;124m\"\u001b[39m\u001b[38;5;124malert\u001b[39m\u001b[38;5;124m\"\u001b[39m]\u001b[38;5;241m.\u001b[39mget(\u001b[38;5;124m\"\u001b[39m\u001b[38;5;124mtext\u001b[39m\u001b[38;5;124m\"\u001b[39m)\n\u001b[1;32m    228\u001b[0m     \u001b[38;5;28;01mraise\u001b[39;00m exception_class(message, screen, stacktrace, alert_text)  \u001b[38;5;66;03m# type: ignore[call-arg]  # mypy is not smart enough here\u001b[39;00m\n\u001b[0;32m--> 229\u001b[0m \u001b[38;5;28;01mraise\u001b[39;00m exception_class(message, screen, stacktrace)\n",
      "\u001b[0;31mNoSuchWindowException\u001b[0m: Message: no such window: target window already closed\nfrom unknown error: web view not found\n  (Session info: chrome=122.0.6261.94)\nStacktrace:\n#0 0x5ccc5403aec3 <unknown>\n#1 0x5ccc53d32ce6 <unknown>\n#2 0x5ccc53d098cd <unknown>\n#3 0x5ccc53da876d <unknown>\n#4 0x5ccc53dbe226 <unknown>\n#5 0x5ccc53d9fc53 <unknown>\n#6 0x5ccc53d70db3 <unknown>\n#7 0x5ccc53d7177e <unknown>\n#8 0x5ccc540007fb <unknown>\n#9 0x5ccc54004815 <unknown>\n#10 0x5ccc53fee111 <unknown>\n#11 0x5ccc540053a2 <unknown>\n#12 0x5ccc53fd21ef <unknown>\n#13 0x5ccc540294b8 <unknown>\n#14 0x5ccc540296b3 <unknown>\n#15 0x5ccc5403a074 <unknown>\n#16 0x72d5d1e94ac3 <unknown>\n"
     ]
    }
   ],
   "source": [
    "df_h = pd.DataFrame(columns=['name_guest', 'date_review', 'overview_rating', 'overview_text', 'comment'])\n",
    "df_h.to_csv('data.csv', index=False)\n",
    "star = 'one'\n",
    "# ua = UserAgent()\n",
    "# options = Options()\n",
    "# options.add_argument(f\"user-agent={ua.random}\")\n",
    "driver = undetected_chromedriver.Chrome()\n",
    "for id_product in data_list:\n",
    "    df = scrape_amazon(id_product,star,driver)\n",
    "    print(\"success! {}\".format(id_product))\n",
    "    df.to_csv('data_comment.csv',mode = 'a',header= False,index = False)\n",
    "driver.close()"
   ]
  },
  {
   "cell_type": "code",
   "execution_count": null,
   "id": "c9a3ed7c-6a13-488e-aba1-597eb1957521",
   "metadata": {},
   "outputs": [],
   "source": []
  }
 ],
 "metadata": {
  "kernelspec": {
   "display_name": "Python 3 (ipykernel)",
   "language": "python",
   "name": "python3"
  },
  "language_info": {
   "codemirror_mode": {
    "name": "ipython",
    "version": 3
   },
   "file_extension": ".py",
   "mimetype": "text/x-python",
   "name": "python",
   "nbconvert_exporter": "python",
   "pygments_lexer": "ipython3",
   "version": "3.10.12"
  }
 },
 "nbformat": 4,
 "nbformat_minor": 5
}
