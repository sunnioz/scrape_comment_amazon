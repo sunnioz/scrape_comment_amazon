{
 "cells": [
  {
   "cell_type": "code",
   "execution_count": 6,
   "id": "b4615bb6-b62b-4b6e-975d-07bafc2bf0e1",
   "metadata": {},
   "outputs": [],
   "source": [
    "import undetected_chromedriver\n",
    "from bs4 import BeautifulSoup\n",
    "from selenium.webdriver.chrome.options import Options\n",
    "from selenium.webdriver.support import expected_conditions as ExpectedConditions\n",
    "import pandas as pd\n",
    "import time\n",
    "from fake_useragent import UserAgent\n",
    "from selenium.common import NoSuchElementException\n",
    "from selenium.webdriver.common.by import By\n",
    "from selenium.webdriver.support.wait import WebDriverWait"
   ]
  },
  {
   "cell_type": "code",
   "execution_count": 7,
   "id": "73eae97a-227f-4d15-b7f9-c55202a16b37",
   "metadata": {},
   "outputs": [],
   "source": [
    "def get_url(search_term):\n",
    "    template = 'https://www.amazon.com/s?k={}'\n",
    "    search_term = search_term.replace(' ', '+')\n",
    "    url = template.format(search_term)\n",
    "    return url"
   ]
  },
  {
   "cell_type": "code",
   "execution_count": 8,
   "id": "5805405b-2bd5-446e-b925-37463d874187",
   "metadata": {},
   "outputs": [],
   "source": [
    "def scrape_records(item):\n",
    "    result = item['data-asin']\n",
    "    return result"
   ]
  },
  {
   "cell_type": "code",
   "execution_count": 9,
   "id": "c90efcb3-cd13-4018-bb34-6ab6a610b67d",
   "metadata": {},
   "outputs": [],
   "source": [
    "def scrape_amazon(search_term):\n",
    "    ua = UserAgent()\n",
    "    options = Options()\n",
    "    options.add_argument(f\"user-agent={ua.random}\")\n",
    "    driver = undetected_chromedriver.Chrome(options=options)\n",
    "    url = get_url(search_term)\n",
    "    driver.get(url)\n",
    "    time.sleep(5)\n",
    "    records = []\n",
    "    while True:\n",
    "        time.sleep(5)\n",
    "        driver.execute_script(\"window.scrollTo(0, document.body.scrollHeight);\")\n",
    "\n",
    "        soup = BeautifulSoup(driver.page_source, 'html.parser')\n",
    "        results = soup.find_all('div', {'data-component-type': 's-search-result'})\n",
    "\n",
    "        for item in results:\n",
    "            try:\n",
    "                record = scrape_records(item)\n",
    "                records.append(record)\n",
    "            except Exception as e:\n",
    "                print(f\"Error scraping item: {e}\")\n",
    "        try:\n",
    "            nextButton = driver.find_element(By.XPATH, '//a[text()=\"Next\"]')\n",
    "            driver.execute_script(\"arguments[0].scrollIntoView();\", nextButton)\n",
    "            WebDriverWait(driver, 200).until(ExpectedConditions.element_to_be_clickable(nextButton))\n",
    "            nextButton.click()\n",
    "        except NoSuchElementException:\n",
    "            print(\"Breaking as Last page Reached\")\n",
    "            break\n",
    "\n",
    "    driver.close()\n",
    "    df = pd.DataFrame(records, columns=['id_product'])\n",
    "    return df\n"
   ]
  },
  {
   "cell_type": "code",
   "execution_count": 10,
   "id": "15711cf8-9163-4efe-a867-343fd41c3fbf",
   "metadata": {},
   "outputs": [
    {
     "name": "stdout",
     "output_type": "stream",
     "text": [
      "Breaking as Last page Reached\n"
     ]
    }
   ],
   "source": [
    "search_term = 'drink glasses'\n",
    "df = scrape_amazon(search_term)\n",
    "df.to_csv('drink_glasses_product_id.csv',index = False)"
   ]
  },
  {
   "cell_type": "code",
   "execution_count": null,
   "id": "17a3d746-e18f-4cf4-a983-934fb39b9181",
   "metadata": {},
   "outputs": [],
   "source": []
  }
 ],
 "metadata": {
  "kernelspec": {
   "display_name": "Python 3 (ipykernel)",
   "language": "python",
   "name": "python3"
  },
  "language_info": {
   "codemirror_mode": {
    "name": "ipython",
    "version": 3
   },
   "file_extension": ".py",
   "mimetype": "text/x-python",
   "name": "python",
   "nbconvert_exporter": "python",
   "pygments_lexer": "ipython3",
   "version": "3.10.12"
  }
 },
 "nbformat": 4,
 "nbformat_minor": 5
}
