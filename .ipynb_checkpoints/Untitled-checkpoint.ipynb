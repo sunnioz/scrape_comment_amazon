{
 "cells": [
  {
   "cell_type": "code",
   "execution_count": null,
   "metadata": {},
   "outputs": [],
   "source": [
    "from bs4 import BeautifulSoup\n",
    "import requests\n",
    "import csv\n",
    "import lxml"
   ]
  },
  {
   "cell_type": "code",
   "execution_count": null,
   "id": "00fb216c",
   "metadata": {},
   "outputs": [],
   "source": [
    "url = 'https://www.amazon.com/product-reviews/B01N5FQD0U/ref=cm_cr_getr_d_paging_btm_prev_1'\n",
    "headers = {\n",
    "    'User-Agent': 'Mozilla/5.0 (X11; Linux x86_64) AppleWebKit/537.36 (KHTML, like Gecko) Chrome/120.0.0.0 Safari/537.36',\n",
    "    'Accept-Language':'vi,vi-VN;q=0.9,fr-FR;q=0.8,fr;q=0.7,en-US;q=0.6,en;q=0.5'\n",
    "}\n",
    "params = {\n",
    "    'ie':'UTF8',\n",
    "    'filterByStar':'five_star',\n",
    "    'reviewerType':'all_reviews',\n",
    "    '&pageNumber':1\n",
    "}"
   ]
  },
  {
   "cell_type": "code",
   "execution_count": null,
   "id": "0b112d4b",
   "metadata": {},
   "outputs": [],
   "source": [
    "html_text = requests.get(url=url,headers=headers,params=params)\n",
    "print(html_text.content)"
   ]
  }
 ],
 "metadata": {
  "language_info": {
   "name": "python"
  }
 },
 "nbformat": 4,
 "nbformat_minor": 5
}
