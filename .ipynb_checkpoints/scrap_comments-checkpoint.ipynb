{
 "cells": [
  {
   "cell_type": "code",
   "execution_count": 1,
   "id": "e1993c25-9b3f-4f86-9db2-9d100933d856",
   "metadata": {},
   "outputs": [],
   "source": [
    "import undetected_chromedriver\n",
    "from bs4 import BeautifulSoup\n",
    "from selenium.webdriver.chrome.options import Options\n",
    "from selenium.webdriver.support import expected_conditions as ExpectedConditions\n",
    "import pandas as pd\n",
    "import time\n",
    "from fake_useragent import UserAgent\n",
    "from selenium.common import NoSuchElementException\n",
    "from selenium.webdriver.common.by import By\n",
    "from selenium.webdriver.support.wait import WebDriverWait"
   ]
  },
  {
   "cell_type": "code",
   "execution_count": 2,
   "id": "45b3eb68-743a-4459-afd9-13a625555333",
   "metadata": {},
   "outputs": [],
   "source": [
    "def get_url(id_product,star):\n",
    "    template = 'https://www.amazon.com/product-reviews/{}/ref=cm_cr_arp_d_viewopt_sr?ie=UTF8&filterByStar={}_star&reviewerType=all_reviews&sortBy=recent&pageNumber=1'\n",
    "    url = template.format(id_product,star)\n",
    "    return url\n"
   ]
  },
  {
   "cell_type": "code",
   "execution_count": 3,
   "id": "08b6dc83-eafc-44b7-92b9-1b30d7849ca5",
   "metadata": {},
   "outputs": [],
   "source": [
    "def read_csv_file(file_path):\n",
    "    df = pd.read_csv(file_path)\n",
    "    id_products = df['id_product'].tolist()\n",
    "    \n",
    "    return id_products"
   ]
  },
  {
   "cell_type": "code",
   "execution_count": 10,
   "id": "4dd23c47-228e-4c4c-99f6-ac76c3952251",
   "metadata": {},
   "outputs": [],
   "source": [
    "data_list = read_csv_file('drink_glasses_product_id.csv')"
   ]
  },
  {
   "cell_type": "code",
   "execution_count": 5,
   "id": "09ce50da-1fea-4ad2-be4b-8ba74788a69f",
   "metadata": {},
   "outputs": [],
   "source": [
    "def scrape_records(item):\n",
    "    overview_guest = item.find('a',attrs = {'data-hook':'review-title'})\n",
    "    overview_rating = overview_guest.find('span',attrs = {'class':'a-icon-alt'})\n",
    "    if overview_rating:\n",
    "        overview_rating = overview_rating.text\n",
    "    overview_text = overview_guest.find_all('span')[-1]\n",
    "    if overview_text:\n",
    "        overview_text = overview_text.text\n",
    "    comment = item.find('span',attrs= {'data-hook':'review-body'})\n",
    "    if comment:\n",
    "        comment = comment.span.text\n",
    "    name_guest = item.find('span',attrs = {'class':'a-profile-name'})\n",
    "    if name_guest:\n",
    "        name_guest = name_guest.text\n",
    "    date_review = item.find('span',attrs = {'data-hook':'review-date'})\n",
    "    if date_review:\n",
    "        date_review = date_review.text\n",
    "    result = (name_guest,date_review,overview_rating,overview_text, comment)\n",
    "    return result\n"
   ]
  },
  {
   "cell_type": "code",
   "execution_count": 11,
   "id": "dd3657cf-5e9a-4d62-ba90-861223a8fe02",
   "metadata": {},
   "outputs": [],
   "source": [
    "\n",
    "def scrape_amazon(search_term,star,driver):\n",
    "    url = get_url(search_term,star)\n",
    "    driver.get(url)\n",
    "    time.sleep(5)\n",
    "    records = []\n",
    "    while True:\n",
    "        # Scroll to the bottom of the page to load more items\n",
    "        # Add a short delay to let the page load\n",
    "        time.sleep(10)\n",
    "        driver.execute_script(\"window.scrollTo(0, document.body.scrollHeight);\")\n",
    "\n",
    "        soup = BeautifulSoup(driver.page_source, 'html.parser')\n",
    "        results = soup.find_all('div', {'data-hook': 'review'})\n",
    "\n",
    "        for item in results:\n",
    "            try:\n",
    "                record = scrape_records(item)\n",
    "                records.append(record)\n",
    "            except Exception as e:\n",
    "                print(f\"Error scraping item: {e}\")\n",
    "\n",
    "        # Check if there is a \"Next\" button on the page\n",
    "        try:\n",
    "            nextButton = driver.find_element(By.XPATH, '//a[text()=\"Next page\"]')\n",
    "            driver.execute_script(\"arguments[0].scrollIntoView();\", nextButton)\n",
    "            WebDriverWait(driver, 300).until(ExpectedConditions.element_to_be_clickable(nextButton))\n",
    "            nextButton.click()\n",
    "        except NoSuchElementException:\n",
    "            print(\"Breaking as Last page Reached\")\n",
    "            break\n",
    "\n",
    "\n",
    "    df = pd.DataFrame(records, columns=['name_guest','date_review','overview_rating','overview_text', 'comment'])\n",
    "    return df\n"
   ]
  },
  {
   "cell_type": "code",
   "execution_count": 12,
   "id": "2801c00f-3bcc-473e-b124-ab004b00568c",
   "metadata": {},
   "outputs": [
    {
     "name": "stdout",
     "output_type": "stream",
     "text": [
      "Breaking as Last page Reached\n",
      "success! B09WSZ1HQR\n",
      "Breaking as Last page Reached\n",
      "success! B01C684UQ8\n",
      "Error scraping item: 'NoneType' object has no attribute 'find'\n",
      "Error scraping item: 'NoneType' object has no attribute 'find'\n",
      "Error scraping item: 'NoneType' object has no attribute 'find'\n",
      "Error scraping item: 'NoneType' object has no attribute 'find'\n",
      "Breaking as Last page Reached\n",
      "success! B0012M81V0\n",
      "Breaking as Last page Reached\n",
      "success! B0000DJQH8\n",
      "Breaking as Last page Reached\n",
      "success! B00E6SSKLS\n"
     ]
    },
    {
     "ename": "ElementClickInterceptedException",
     "evalue": "Message: element click intercepted: Element <a href=\"/TOSSWARE-14oz-Vino-recyclable-shatterproof/product-reviews/B0184XUCR0/ref=cm_cr_arp_d_paging_btm_2?ie=UTF8&amp;filterByStar=three_star&amp;pageNumber=2&amp;reviewerType=all_reviews&amp;sortBy=recent\">...</a> is not clickable at point (214, 16). Other element would receive the click: <div class=\"a-section cr-list-loading reviews-loading\"></div>\n  (Session info: chrome=122.0.6261.94)\nStacktrace:\n#0 0x5fa34feb1ec3 <unknown>\n#1 0x5fa34fba9ce6 <unknown>\n#2 0x5fa34fbfba73 <unknown>\n#3 0x5fa34fbf998e <unknown>\n#4 0x5fa34fbf7367 <unknown>\n#5 0x5fa34fbf6732 <unknown>\n#6 0x5fa34fbe9d27 <unknown>\n#7 0x5fa34fc16eb2 <unknown>\n#8 0x5fa34fbe96b8 <unknown>\n#9 0x5fa34fc1707e <unknown>\n#10 0x5fa34fc35899 <unknown>\n#11 0x5fa34fc16c53 <unknown>\n#12 0x5fa34fbe7db3 <unknown>\n#13 0x5fa34fbe877e <unknown>\n#14 0x5fa34fe777fb <unknown>\n#15 0x5fa34fe7b815 <unknown>\n#16 0x5fa34fe65111 <unknown>\n#17 0x5fa34fe7c3a2 <unknown>\n#18 0x5fa34fe491ef <unknown>\n#19 0x5fa34fea04b8 <unknown>\n#20 0x5fa34fea06b3 <unknown>\n#21 0x5fa34feb1074 <unknown>\n#22 0x7def06e94ac3 <unknown>\n",
     "output_type": "error",
     "traceback": [
      "\u001b[0;31m---------------------------------------------------------------------------\u001b[0m",
      "\u001b[0;31mElementClickInterceptedException\u001b[0m          Traceback (most recent call last)",
      "Cell \u001b[0;32mIn[12], line 9\u001b[0m\n\u001b[1;32m      7\u001b[0m driver \u001b[38;5;241m=\u001b[39m undetected_chromedriver\u001b[38;5;241m.\u001b[39mChrome(options\u001b[38;5;241m=\u001b[39moptions)\n\u001b[1;32m      8\u001b[0m \u001b[38;5;28;01mfor\u001b[39;00m id_product \u001b[38;5;129;01min\u001b[39;00m data_list:\n\u001b[0;32m----> 9\u001b[0m     df \u001b[38;5;241m=\u001b[39m \u001b[43mscrape_amazon\u001b[49m\u001b[43m(\u001b[49m\u001b[43mid_product\u001b[49m\u001b[43m,\u001b[49m\u001b[43mstar\u001b[49m\u001b[43m,\u001b[49m\u001b[43mdriver\u001b[49m\u001b[43m)\u001b[49m\n\u001b[1;32m     10\u001b[0m     \u001b[38;5;28mprint\u001b[39m(\u001b[38;5;124m\"\u001b[39m\u001b[38;5;124msuccess! \u001b[39m\u001b[38;5;132;01m{}\u001b[39;00m\u001b[38;5;124m\"\u001b[39m\u001b[38;5;241m.\u001b[39mformat(id_product))\n\u001b[1;32m     11\u001b[0m     df\u001b[38;5;241m.\u001b[39mto_csv(\u001b[38;5;124m'\u001b[39m\u001b[38;5;124mdata_comment.csv\u001b[39m\u001b[38;5;124m'\u001b[39m,mode \u001b[38;5;241m=\u001b[39m \u001b[38;5;124m'\u001b[39m\u001b[38;5;124ma\u001b[39m\u001b[38;5;124m'\u001b[39m,header\u001b[38;5;241m=\u001b[39m \u001b[38;5;28;01mFalse\u001b[39;00m,index \u001b[38;5;241m=\u001b[39m \u001b[38;5;28;01mFalse\u001b[39;00m)\n",
      "Cell \u001b[0;32mIn[11], line 27\u001b[0m, in \u001b[0;36mscrape_amazon\u001b[0;34m(search_term, star, driver)\u001b[0m\n\u001b[1;32m     25\u001b[0m     driver\u001b[38;5;241m.\u001b[39mexecute_script(\u001b[38;5;124m\"\u001b[39m\u001b[38;5;124marguments[0].scrollIntoView();\u001b[39m\u001b[38;5;124m\"\u001b[39m, nextButton)\n\u001b[1;32m     26\u001b[0m     WebDriverWait(driver, \u001b[38;5;241m200\u001b[39m)\u001b[38;5;241m.\u001b[39muntil(ExpectedConditions\u001b[38;5;241m.\u001b[39melement_to_be_clickable(nextButton))\n\u001b[0;32m---> 27\u001b[0m     \u001b[43mnextButton\u001b[49m\u001b[38;5;241;43m.\u001b[39;49m\u001b[43mclick\u001b[49m\u001b[43m(\u001b[49m\u001b[43m)\u001b[49m\n\u001b[1;32m     28\u001b[0m \u001b[38;5;28;01mexcept\u001b[39;00m NoSuchElementException:\n\u001b[1;32m     29\u001b[0m     \u001b[38;5;28mprint\u001b[39m(\u001b[38;5;124m\"\u001b[39m\u001b[38;5;124mBreaking as Last page Reached\u001b[39m\u001b[38;5;124m\"\u001b[39m)\n",
      "File \u001b[0;32m~/BTL_BIGDATA/env/lib/python3.10/site-packages/selenium/webdriver/remote/webelement.py:94\u001b[0m, in \u001b[0;36mWebElement.click\u001b[0;34m(self)\u001b[0m\n\u001b[1;32m     92\u001b[0m \u001b[38;5;28;01mdef\u001b[39;00m \u001b[38;5;21mclick\u001b[39m(\u001b[38;5;28mself\u001b[39m) \u001b[38;5;241m-\u001b[39m\u001b[38;5;241m>\u001b[39m \u001b[38;5;28;01mNone\u001b[39;00m:\n\u001b[1;32m     93\u001b[0m \u001b[38;5;250m    \u001b[39m\u001b[38;5;124;03m\"\"\"Clicks the element.\"\"\"\u001b[39;00m\n\u001b[0;32m---> 94\u001b[0m     \u001b[38;5;28;43mself\u001b[39;49m\u001b[38;5;241;43m.\u001b[39;49m\u001b[43m_execute\u001b[49m\u001b[43m(\u001b[49m\u001b[43mCommand\u001b[49m\u001b[38;5;241;43m.\u001b[39;49m\u001b[43mCLICK_ELEMENT\u001b[49m\u001b[43m)\u001b[49m\n",
      "File \u001b[0;32m~/BTL_BIGDATA/env/lib/python3.10/site-packages/selenium/webdriver/remote/webelement.py:395\u001b[0m, in \u001b[0;36mWebElement._execute\u001b[0;34m(self, command, params)\u001b[0m\n\u001b[1;32m    393\u001b[0m     params \u001b[38;5;241m=\u001b[39m {}\n\u001b[1;32m    394\u001b[0m params[\u001b[38;5;124m\"\u001b[39m\u001b[38;5;124mid\u001b[39m\u001b[38;5;124m\"\u001b[39m] \u001b[38;5;241m=\u001b[39m \u001b[38;5;28mself\u001b[39m\u001b[38;5;241m.\u001b[39m_id\n\u001b[0;32m--> 395\u001b[0m \u001b[38;5;28;01mreturn\u001b[39;00m \u001b[38;5;28;43mself\u001b[39;49m\u001b[38;5;241;43m.\u001b[39;49m\u001b[43m_parent\u001b[49m\u001b[38;5;241;43m.\u001b[39;49m\u001b[43mexecute\u001b[49m\u001b[43m(\u001b[49m\u001b[43mcommand\u001b[49m\u001b[43m,\u001b[49m\u001b[43m \u001b[49m\u001b[43mparams\u001b[49m\u001b[43m)\u001b[49m\n",
      "File \u001b[0;32m~/BTL_BIGDATA/env/lib/python3.10/site-packages/selenium/webdriver/remote/webdriver.py:347\u001b[0m, in \u001b[0;36mWebDriver.execute\u001b[0;34m(self, driver_command, params)\u001b[0m\n\u001b[1;32m    345\u001b[0m response \u001b[38;5;241m=\u001b[39m \u001b[38;5;28mself\u001b[39m\u001b[38;5;241m.\u001b[39mcommand_executor\u001b[38;5;241m.\u001b[39mexecute(driver_command, params)\n\u001b[1;32m    346\u001b[0m \u001b[38;5;28;01mif\u001b[39;00m response:\n\u001b[0;32m--> 347\u001b[0m     \u001b[38;5;28;43mself\u001b[39;49m\u001b[38;5;241;43m.\u001b[39;49m\u001b[43merror_handler\u001b[49m\u001b[38;5;241;43m.\u001b[39;49m\u001b[43mcheck_response\u001b[49m\u001b[43m(\u001b[49m\u001b[43mresponse\u001b[49m\u001b[43m)\u001b[49m\n\u001b[1;32m    348\u001b[0m     response[\u001b[38;5;124m\"\u001b[39m\u001b[38;5;124mvalue\u001b[39m\u001b[38;5;124m\"\u001b[39m] \u001b[38;5;241m=\u001b[39m \u001b[38;5;28mself\u001b[39m\u001b[38;5;241m.\u001b[39m_unwrap_value(response\u001b[38;5;241m.\u001b[39mget(\u001b[38;5;124m\"\u001b[39m\u001b[38;5;124mvalue\u001b[39m\u001b[38;5;124m\"\u001b[39m, \u001b[38;5;28;01mNone\u001b[39;00m))\n\u001b[1;32m    349\u001b[0m     \u001b[38;5;28;01mreturn\u001b[39;00m response\n",
      "File \u001b[0;32m~/BTL_BIGDATA/env/lib/python3.10/site-packages/selenium/webdriver/remote/errorhandler.py:229\u001b[0m, in \u001b[0;36mErrorHandler.check_response\u001b[0;34m(self, response)\u001b[0m\n\u001b[1;32m    227\u001b[0m         alert_text \u001b[38;5;241m=\u001b[39m value[\u001b[38;5;124m\"\u001b[39m\u001b[38;5;124malert\u001b[39m\u001b[38;5;124m\"\u001b[39m]\u001b[38;5;241m.\u001b[39mget(\u001b[38;5;124m\"\u001b[39m\u001b[38;5;124mtext\u001b[39m\u001b[38;5;124m\"\u001b[39m)\n\u001b[1;32m    228\u001b[0m     \u001b[38;5;28;01mraise\u001b[39;00m exception_class(message, screen, stacktrace, alert_text)  \u001b[38;5;66;03m# type: ignore[call-arg]  # mypy is not smart enough here\u001b[39;00m\n\u001b[0;32m--> 229\u001b[0m \u001b[38;5;28;01mraise\u001b[39;00m exception_class(message, screen, stacktrace)\n",
      "\u001b[0;31mElementClickInterceptedException\u001b[0m: Message: element click intercepted: Element <a href=\"/TOSSWARE-14oz-Vino-recyclable-shatterproof/product-reviews/B0184XUCR0/ref=cm_cr_arp_d_paging_btm_2?ie=UTF8&amp;filterByStar=three_star&amp;pageNumber=2&amp;reviewerType=all_reviews&amp;sortBy=recent\">...</a> is not clickable at point (214, 16). Other element would receive the click: <div class=\"a-section cr-list-loading reviews-loading\"></div>\n  (Session info: chrome=122.0.6261.94)\nStacktrace:\n#0 0x5fa34feb1ec3 <unknown>\n#1 0x5fa34fba9ce6 <unknown>\n#2 0x5fa34fbfba73 <unknown>\n#3 0x5fa34fbf998e <unknown>\n#4 0x5fa34fbf7367 <unknown>\n#5 0x5fa34fbf6732 <unknown>\n#6 0x5fa34fbe9d27 <unknown>\n#7 0x5fa34fc16eb2 <unknown>\n#8 0x5fa34fbe96b8 <unknown>\n#9 0x5fa34fc1707e <unknown>\n#10 0x5fa34fc35899 <unknown>\n#11 0x5fa34fc16c53 <unknown>\n#12 0x5fa34fbe7db3 <unknown>\n#13 0x5fa34fbe877e <unknown>\n#14 0x5fa34fe777fb <unknown>\n#15 0x5fa34fe7b815 <unknown>\n#16 0x5fa34fe65111 <unknown>\n#17 0x5fa34fe7c3a2 <unknown>\n#18 0x5fa34fe491ef <unknown>\n#19 0x5fa34fea04b8 <unknown>\n#20 0x5fa34fea06b3 <unknown>\n#21 0x5fa34feb1074 <unknown>\n#22 0x7def06e94ac3 <unknown>\n"
     ]
    }
   ],
   "source": [
    "df_h = pd.DataFrame(columns=['name_guest', 'date_review', 'overview_rating', 'overview_text', 'comment'])\n",
    "df_h.to_csv('data.csv', index=False)\n",
    "star = 'three'\n",
    "ua = UserAgent()\n",
    "options = Options()\n",
    "options.add_argument(f\"user-agent={ua.random}\")\n",
    "driver = undetected_chromedriver.Chrome(options=options)\n",
    "for id_product in data_list:\n",
    "    df = scrape_amazon(id_product,star,driver)\n",
    "    print(\"success! {}\".format(id_product))\n",
    "    df.to_csv('data_comment.csv',mode = 'a',header= False,index = False)\n",
    "driver.close()"
   ]
  },
  {
   "cell_type": "code",
   "execution_count": null,
   "id": "c9a3ed7c-6a13-488e-aba1-597eb1957521",
   "metadata": {},
   "outputs": [],
   "source": []
  }
 ],
 "metadata": {
  "kernelspec": {
   "display_name": "Python 3 (ipykernel)",
   "language": "python",
   "name": "python3"
  },
  "language_info": {
   "codemirror_mode": {
    "name": "ipython",
    "version": 3
   },
   "file_extension": ".py",
   "mimetype": "text/x-python",
   "name": "python",
   "nbconvert_exporter": "python",
   "pygments_lexer": "ipython3",
   "version": "3.10.12"
  }
 },
 "nbformat": 4,
 "nbformat_minor": 5
}
